{
 "cells": [
  {
   "cell_type": "markdown",
   "metadata": {},
   "source": [
    "$$\\begin{center}\n",
    "\\begin{tabular}{ c c c }\n",
    "    cell1 & cell2 & cell3 \\\\ \n",
    "    cell4 & cell5 & cell6 \\\\  \n",
    "    cell7 & cell8 & cell9    \n",
    "\\end{tabular}\n",
    "\\end{center}$$"
   ]
  },
  {
   "cell_type": "markdown",
   "metadata": {},
   "source": []
  }
 ],
 "metadata": {
  "language_info": {
   "name": "python"
  },
  "orig_nbformat": 4
 },
 "nbformat": 4,
 "nbformat_minor": 2
}
